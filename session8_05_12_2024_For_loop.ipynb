{
 "cells": [
  {
   "cell_type": "code",
   "execution_count": 2,
   "metadata": {},
   "outputs": [
    {
     "name": "stdout",
     "output_type": "stream",
     "text": [
      "something\n"
     ]
    }
   ],
   "source": [
    "x = True\n",
    "while x:\n",
    "    print(\"something\")\n",
    "    x = False"
   ]
  },
  {
   "cell_type": "markdown",
   "metadata": {},
   "source": [
    "# For Loop"
   ]
  },
  {
   "cell_type": "code",
   "execution_count": 3,
   "metadata": {},
   "outputs": [
    {
     "data": {
      "text/plain": [
       "True"
      ]
     },
     "execution_count": 3,
     "metadata": {},
     "output_type": "execute_result"
    }
   ],
   "source": [
    "2 in [1,2,3]"
   ]
  },
  {
   "cell_type": "code",
   "execution_count": 4,
   "metadata": {},
   "outputs": [
    {
     "data": {
      "text/plain": [
       "False"
      ]
     },
     "execution_count": 4,
     "metadata": {},
     "output_type": "execute_result"
    }
   ],
   "source": [
    "6 in [1,2,3]"
   ]
  },
  {
   "cell_type": "code",
   "execution_count": 5,
   "metadata": {},
   "outputs": [
    {
     "name": "stdout",
     "output_type": "stream",
     "text": [
      "1\n",
      "4\n",
      "9\n",
      "16\n"
     ]
    }
   ],
   "source": [
    "for i in [1,2,3,4]:  # iterable verilerde kullanılır. List\n",
    "    print(i**2)"
   ]
  },
  {
   "cell_type": "code",
   "execution_count": 7,
   "metadata": {},
   "outputs": [
    {
     "name": "stdout",
     "output_type": "stream",
     "text": [
      "t * r * i * g * o * n * o * m * e * t * r * i * "
     ]
    }
   ],
   "source": [
    "for harf in \"trigonometri\":   # string\n",
    "    print(harf, end=\" * \")"
   ]
  },
  {
   "cell_type": "code",
   "execution_count": 9,
   "metadata": {},
   "outputs": [
    {
     "name": "stdout",
     "output_type": "stream",
     "text": [
      "6\n",
      "7\n",
      "7\n",
      "8\n"
     ]
    }
   ],
   "source": [
    "for i in (1, 2, 2, 3):    # tuple\n",
    "    i += 5\n",
    "    print(i)"
   ]
  },
  {
   "cell_type": "code",
   "execution_count": 10,
   "metadata": {},
   "outputs": [
    {
     "name": "stdout",
     "output_type": "stream",
     "text": [
      "2\n",
      "4\n",
      "6\n",
      "8\n"
     ]
    }
   ],
   "source": [
    "for i in {1, 2, 3, 4}:   # set\n",
    "    print(i*2)"
   ]
  },
  {
   "cell_type": "code",
   "execution_count": 11,
   "metadata": {},
   "outputs": [
    {
     "ename": "TypeError",
     "evalue": "'int' object is not iterable",
     "output_type": "error",
     "traceback": [
      "\u001b[0;31m---------------------------------------------------------------------------\u001b[0m",
      "\u001b[0;31mTypeError\u001b[0m                                 Traceback (most recent call last)",
      "Cell \u001b[0;32mIn[11], line 1\u001b[0m\n\u001b[0;32m----> 1\u001b[0m \u001b[38;5;28;01mfor\u001b[39;00m i \u001b[38;5;129;01min\u001b[39;00m \u001b[38;5;241m1234\u001b[39m:\n\u001b[1;32m      2\u001b[0m     \u001b[38;5;28mprint\u001b[39m(i)\n",
      "\u001b[0;31mTypeError\u001b[0m: 'int' object is not iterable"
     ]
    }
   ],
   "source": [
    "for i in 1234:   # collection type iterable olmalı.\n",
    "    print(i)"
   ]
  },
  {
   "cell_type": "code",
   "execution_count": 12,
   "metadata": {},
   "outputs": [
    {
     "name": "stdout",
     "output_type": "stream",
     "text": [
      "1\n",
      "4\n",
      "7\n",
      "10\n",
      "13\n",
      "16\n"
     ]
    }
   ],
   "source": [
    "for i in range(1,19,3):\n",
    "    print(i)"
   ]
  },
  {
   "cell_type": "code",
   "execution_count": 13,
   "metadata": {},
   "outputs": [
    {
     "name": "stdout",
     "output_type": "stream",
     "text": [
      "1\n",
      "4\n",
      "9\n",
      "16\n",
      "25\n"
     ]
    }
   ],
   "source": [
    "for i in [1,2,3,4,5]:\n",
    "    print(i**2)"
   ]
  },
  {
   "cell_type": "code",
   "execution_count": 14,
   "metadata": {},
   "outputs": [
    {
     "name": "stdout",
     "output_type": "stream",
     "text": [
      "1\n",
      "4\n",
      "9\n",
      "16\n",
      "25\n"
     ]
    }
   ],
   "source": [
    "liste = [1,2,3,4,5]\n",
    "x = 0\n",
    "while x < len(liste):\n",
    "    print(liste[x]**2)\n",
    "    x += 1"
   ]
  },
  {
   "cell_type": "code",
   "execution_count": 15,
   "metadata": {},
   "outputs": [
    {
     "name": "stdout",
     "output_type": "stream",
     "text": [
      "Merve - Bilsen - Uluğbek - Ibrahim - "
     ]
    }
   ],
   "source": [
    "for i in [\"merve\", \"bilsen\", \"uluğbek\", \"ibrahim\"]:\n",
    "    print(i.title(), end=\" - \")"
   ]
  },
  {
   "cell_type": "code",
   "execution_count": 16,
   "metadata": {},
   "outputs": [
    {
     "data": {
      "text/plain": [
       "{'name': 'Mukaddes', 'age': 23, 'job': 'aws_devops'}"
      ]
     },
     "execution_count": 16,
     "metadata": {},
     "output_type": "execute_result"
    }
   ],
   "source": [
    "dict_1 = {\"name\": \"Mukaddes\", \"age\": 23, \"job\": \"aws_devops\"}\n",
    "dict_1"
   ]
  },
  {
   "cell_type": "code",
   "execution_count": 17,
   "metadata": {},
   "outputs": [
    {
     "name": "stdout",
     "output_type": "stream",
     "text": [
      "name\n",
      "age\n",
      "job\n"
     ]
    }
   ],
   "source": [
    "for i in dict_1:\n",
    "    print(i)"
   ]
  },
  {
   "cell_type": "code",
   "execution_count": 18,
   "metadata": {},
   "outputs": [
    {
     "name": "stdout",
     "output_type": "stream",
     "text": [
      "Mukaddes\n",
      "23\n",
      "aws_devops\n"
     ]
    }
   ],
   "source": [
    "for i in dict_1.values():\n",
    "    print(i)"
   ]
  },
  {
   "cell_type": "code",
   "execution_count": 19,
   "metadata": {},
   "outputs": [
    {
     "name": "stdout",
     "output_type": "stream",
     "text": [
      "('name', 'Mukaddes')\n",
      "('age', 23)\n",
      "('job', 'aws_devops')\n"
     ]
    }
   ],
   "source": [
    "for i in dict_1.items():\n",
    "    print(i)\n",
    "                "
   ]
  },
  {
   "cell_type": "code",
   "execution_count": null,
   "metadata": {},
   "outputs": [],
   "source": [
    "# çalıştırma, sonsuz döngü!\n",
    "\"\"\"liste = [\"for ile sonsuza gitme\"]\n",
    "for i in liste:\n",
    "    print(i)\n",
    "    liste.append(i)\"\"\""
   ]
  },
  {
   "cell_type": "code",
   "execution_count": null,
   "metadata": {},
   "outputs": [],
   "source": [
    "# kullanıcıdan alınan sayı için çarpım tablosu oluşuran python kodunu yazınız.\n",
    "sayi = int(input(\"1 ile 10 arasında bir sayı giriniz.\"))\n",
    "if 1 <= sayi <= 10:\n",
    "    for i in range(1,11):\n",
    "        print(f\"{sayi} * {i} = {sayi * i}\")\n",
    "else:\n",
    "    print(\"Girdiğiniz sayı 1-10 aralığında değil.\")"
   ]
  },
  {
   "cell_type": "code",
   "execution_count": 6,
   "metadata": {},
   "outputs": [
    {
     "name": "stdout",
     "output_type": "stream",
     "text": [
      "4 sayısının çarpım tablosu:\n",
      "4 x 1 = 4\n",
      "4 x 2 = 8\n",
      "4 x 3 = 12\n",
      "4 x 4 = 16\n",
      "4 x 5 = 20\n",
      "4 x 6 = 24\n",
      "4 x 7 = 28\n",
      "4 x 8 = 32\n",
      "4 x 9 = 36\n",
      "4 x 10 = 40\n"
     ]
    }
   ],
   "source": [
    "sayi = int(input(\"1 ile 10 arası bir sayı giriniz.\"))\n",
    "if 0 < sayi <= 10:\n",
    "    carpim = 1  \n",
    "    print(f\"{sayi} sayısının çarpım tablosu:\")\n",
    "        \n",
    "    while carpim <= 10:\n",
    "            sonuc = sayi * carpim\n",
    "            print(f\"{sayi} x {carpim} = {sonuc}\")\n",
    "            carpim += 1\n",
    "else:\n",
    "      print(\"Girdiğiniz sayı belirtilen aralıkta değil\")"
   ]
  },
  {
   "cell_type": "code",
   "execution_count": 7,
   "metadata": {},
   "outputs": [
    {
     "name": "stdout",
     "output_type": "stream",
     "text": [
      "1'den 50'ye kadar olan sayıların toplamı:  1275\n"
     ]
    }
   ],
   "source": [
    "#1'den 50'ye kadar olan sayıların toplamını veren py kodunu yazınız.\n",
    "toplam = 0\n",
    "for i in range(1,51):\n",
    "    toplam += i\n",
    "print(\"1'den 50'ye kadar olan sayıların toplamı: \", toplam)"
   ]
  },
  {
   "cell_type": "code",
   "execution_count": null,
   "metadata": {},
   "outputs": [],
   "source": [
    "toplam = 0\n",
    "for i in range(1,51):\n",
    "    toplam += i\n",
    "    print(\"1'den 50'ye kadar olan sayıların toplamı: \", toplam)"
   ]
  },
  {
   "cell_type": "code",
   "execution_count": 8,
   "metadata": {},
   "outputs": [
    {
     "data": {
      "text/plain": [
       "1275"
      ]
     },
     "execution_count": 8,
     "metadata": {},
     "output_type": "execute_result"
    }
   ],
   "source": [
    "sum(range(1,51))"
   ]
  },
  {
   "cell_type": "code",
   "execution_count": 9,
   "metadata": {},
   "outputs": [
    {
     "name": "stdout",
     "output_type": "stream",
     "text": [
      "3'e bölünebilenlerin toplamı: 18\n"
     ]
    }
   ],
   "source": [
    "# 1'den 10'a kadar olan sayılardan 3'e bölünebilenlerin toplamını veren py kodunu yazınız.\n",
    "toplam = 0\n",
    "for i in range(1,10):\n",
    "    if i % 3 == 0:\n",
    "        toplam += i\n",
    "print(\"3'e bölünebilenlerin toplamı:\", toplam)"
   ]
  },
  {
   "cell_type": "markdown",
   "metadata": {},
   "source": [
    "## continue"
   ]
  },
  {
   "cell_type": "code",
   "execution_count": 11,
   "metadata": {},
   "outputs": [
    {
     "name": "stdout",
     "output_type": "stream",
     "text": [
      "3'e bölünebilenlerin toplamı: 18\n"
     ]
    }
   ],
   "source": [
    "toplam = 0\n",
    "for i in range(1,10):\n",
    "    if i % 3 != 0:\n",
    "        continue    # hiç birşey yapmadan döngüye devam et.\n",
    "\n",
    "    toplam += i\n",
    "    \n",
    "print(\"3'e bölünebilenlerin toplamı:\", toplam)"
   ]
  },
  {
   "cell_type": "markdown",
   "metadata": {},
   "source": [
    "## break"
   ]
  },
  {
   "cell_type": "code",
   "execution_count": 12,
   "metadata": {},
   "outputs": [
    {
     "name": "stdout",
     "output_type": "stream",
     "text": [
      "Tek Sayılar:  [1, 15, 9, 65, 41]\n",
      "Çift Sayılar:  [2, 8, 32, 14, 18, 22]\n"
     ]
    }
   ],
   "source": [
    "# 28 haricindeki tek ve çift sayıları ayrı ayrı listele.\n",
    "liste_2 = [1,15,2,8,9,32,65,41,14,18,22,28,71,85,98,91] \n",
    "tek = []\n",
    "cift = []\n",
    "for i in liste_2:\n",
    "    if i == 28:\n",
    "        break\n",
    "    elif i % 2 == 0:\n",
    "        cift.append(i)\n",
    "    else:\n",
    "        tek.append(i)\n",
    "\n",
    "print(\"Tek Sayılar: \", tek)\n",
    "print(\"Çift Sayılar: \", cift) \n"
   ]
  },
  {
   "cell_type": "code",
   "execution_count": 13,
   "metadata": {},
   "outputs": [
    {
     "name": "stdout",
     "output_type": "stream",
     "text": [
      "Tek Sayılar:  [1, 15, 9]\n",
      "Çift Sayılar:  [2, 8]\n"
     ]
    }
   ],
   "source": [
    "# 28'e kadar olan tek ve çift sayıları ayrı ayrı listele.\n",
    "liste_2 = [1,15,2,8,9,32,65,41,14,18,22,28,71,85,98,91] \n",
    "tek = []\n",
    "cift = []\n",
    "for i in liste_2:\n",
    "    if i >= 28:\n",
    "        break\n",
    "    elif i % 2 == 0:\n",
    "        cift.append(i)\n",
    "    else:\n",
    "        tek.append(i)\n",
    "\n",
    "print(\"Tek Sayılar: \", tek)\n",
    "print(\"Çift Sayılar: \", cift) \n"
   ]
  },
  {
   "cell_type": "code",
   "execution_count": 15,
   "metadata": {},
   "outputs": [
    {
     "name": "stdout",
     "output_type": "stream",
     "text": [
      "1\n",
      "4\n",
      "3\n"
     ]
    }
   ],
   "source": [
    "for i in [1,2,3]:\n",
    "    if i % 2 == 0:\n",
    "        print(i**2)\n",
    "    else:\n",
    "        print(i)"
   ]
  },
  {
   "cell_type": "markdown",
   "metadata": {},
   "source": [
    "# list comprehension"
   ]
  },
  {
   "cell_type": "code",
   "execution_count": 21,
   "metadata": {},
   "outputs": [
    {
     "name": "stdout",
     "output_type": "stream",
     "text": [
      "4\n"
     ]
    }
   ],
   "source": [
    "for i in [1,2,3]:\n",
    "    if i % 2 == 0:\n",
    "        print(i**2)"
   ]
  },
  {
   "cell_type": "code",
   "execution_count": 19,
   "metadata": {},
   "outputs": [
    {
     "data": {
      "text/plain": [
       "[4]"
      ]
     },
     "execution_count": 19,
     "metadata": {},
     "output_type": "execute_result"
    }
   ],
   "source": [
    "[i**2 for i in [1,2,3] if i % 2 == 0]"
   ]
  },
  {
   "cell_type": "markdown",
   "metadata": {},
   "source": [
    "[print for döngüsü if koşul]"
   ]
  },
  {
   "cell_type": "code",
   "execution_count": 22,
   "metadata": {},
   "outputs": [
    {
     "name": "stdout",
     "output_type": "stream",
     "text": [
      "1\n",
      "4\n",
      "3\n"
     ]
    }
   ],
   "source": [
    "for i in [1,2,3]:\n",
    "    if i % 2 == 0:\n",
    "        print(i**2)\n",
    "    else:\n",
    "        print(i)"
   ]
  },
  {
   "cell_type": "code",
   "execution_count": 20,
   "metadata": {},
   "outputs": [
    {
     "data": {
      "text/plain": [
       "[1, 4, 3]"
      ]
     },
     "execution_count": 20,
     "metadata": {},
     "output_type": "execute_result"
    }
   ],
   "source": [
    "[i if i % 2 == 1 else i ** 2 for i in [1,2,3]]"
   ]
  },
  {
   "cell_type": "markdown",
   "metadata": {},
   "source": [
    "[print if koşul else print for döngüsü]"
   ]
  },
  {
   "cell_type": "markdown",
   "metadata": {},
   "source": [
    "### sadece for döngüsü"
   ]
  },
  {
   "cell_type": "code",
   "execution_count": 23,
   "metadata": {},
   "outputs": [
    {
     "name": "stdout",
     "output_type": "stream",
     "text": [
      "[1, 4, 9, 16, 25]\n"
     ]
    }
   ],
   "source": [
    "liste = [1,2,3,4,5]\n",
    "yeni_liste = []\n",
    "for i in liste:\n",
    "    yeni_liste.append(i**2)\n",
    "\n",
    "print(yeni_liste)"
   ]
  },
  {
   "cell_type": "code",
   "execution_count": 24,
   "metadata": {},
   "outputs": [
    {
     "data": {
      "text/plain": [
       "[1, 4, 9, 16, 25]"
      ]
     },
     "execution_count": 24,
     "metadata": {},
     "output_type": "execute_result"
    }
   ],
   "source": [
    "[ i**2 for i in liste ]   # [print işlemi    for döngüsü]"
   ]
  },
  {
   "cell_type": "code",
   "execution_count": 25,
   "metadata": {},
   "outputs": [
    {
     "ename": "SyntaxError",
     "evalue": "invalid syntax (3254629820.py, line 1)",
     "output_type": "error",
     "traceback": [
      "\u001b[0;36m  Cell \u001b[0;32mIn[25], line 1\u001b[0;36m\u001b[0m\n\u001b[0;31m    i**2 for i in liste\u001b[0m\n\u001b[0m         ^\u001b[0m\n\u001b[0;31mSyntaxError\u001b[0m\u001b[0;31m:\u001b[0m invalid syntax\n"
     ]
    }
   ],
   "source": [
    "i**2 for i in liste   # [] liste içinde verilmeli"
   ]
  },
  {
   "cell_type": "code",
   "execution_count": 26,
   "metadata": {},
   "outputs": [
    {
     "name": "stdout",
     "output_type": "stream",
     "text": [
      "1\n",
      "4\n",
      "9\n",
      "16\n",
      "25\n"
     ]
    }
   ],
   "source": [
    "for i in liste:\n",
    "    print(i**2)"
   ]
  },
  {
   "cell_type": "markdown",
   "metadata": {},
   "source": [
    "### if koşulu ile for döngüsü"
   ]
  },
  {
   "cell_type": "code",
   "execution_count": 27,
   "metadata": {},
   "outputs": [
    {
     "data": {
      "text/plain": [
       "[1, 2, 3, 4, 5]"
      ]
     },
     "execution_count": 27,
     "metadata": {},
     "output_type": "execute_result"
    }
   ],
   "source": [
    "liste"
   ]
  },
  {
   "cell_type": "code",
   "execution_count": 28,
   "metadata": {},
   "outputs": [
    {
     "name": "stdout",
     "output_type": "stream",
     "text": [
      "[4, 16]\n"
     ]
    }
   ],
   "source": [
    "yeni_liste = []\n",
    "for i in liste:\n",
    "    if i % 2 == 0:\n",
    "        yeni_liste.append(i**2)\n",
    "        \n",
    "print(yeni_liste)"
   ]
  },
  {
   "cell_type": "code",
   "execution_count": 29,
   "metadata": {},
   "outputs": [
    {
     "data": {
      "text/plain": [
       "[4, 16]"
      ]
     },
     "execution_count": 29,
     "metadata": {},
     "output_type": "execute_result"
    }
   ],
   "source": [
    "[ i ** 2 for i in liste if i % 2 == 0 ]    # [ print edilen işlem  +  for döngüsü  +  if koşulu ]"
   ]
  },
  {
   "cell_type": "markdown",
   "metadata": {},
   "source": [
    "### if - else ile for döngüsü"
   ]
  },
  {
   "cell_type": "code",
   "execution_count": 30,
   "metadata": {},
   "outputs": [
    {
     "data": {
      "text/plain": [
       "[1, 2, 3, 4, 5]"
      ]
     },
     "execution_count": 30,
     "metadata": {},
     "output_type": "execute_result"
    }
   ],
   "source": [
    "liste"
   ]
  },
  {
   "cell_type": "code",
   "execution_count": 31,
   "metadata": {},
   "outputs": [
    {
     "name": "stdout",
     "output_type": "stream",
     "text": [
      "[1, 2, 9, 4, 25]\n"
     ]
    }
   ],
   "source": [
    "yeni_liste = []\n",
    "for i in liste:\n",
    "    if i % 2 == 0:\n",
    "        yeni_liste.append(i)\n",
    "    else:\n",
    "        yeni_liste.append(i**2)\n",
    "\n",
    "print(yeni_liste)"
   ]
  },
  {
   "cell_type": "code",
   "execution_count": 32,
   "metadata": {},
   "outputs": [
    {
     "data": {
      "text/plain": [
       "[1, 2, 9, 4, 25]"
      ]
     },
     "execution_count": 32,
     "metadata": {},
     "output_type": "execute_result"
    }
   ],
   "source": [
    "[ i if i % 2 == 0 else i**2 for i in liste ]   # [ ifin printi +  else + elsein printi + for döngüsü ]"
   ]
  },
  {
   "cell_type": "code",
   "execution_count": 36,
   "metadata": {},
   "outputs": [
    {
     "name": "stdout",
     "output_type": "stream",
     "text": [
      "[8, 12, 14, 23, 25, 31, 32, 38, 40, 43, 49]\n"
     ]
    }
   ],
   "source": [
    "# listedeki min ve max sayılar arasındaki kayıp sayıları bulunuz.\n",
    "num = [48, 10, 11, 21, 36, 5, 6, 52, 28, 29,\n",
    "       53, 54, 45, 19, 20, 47, 55, 39, 41, 7,\n",
    "       9, 17, 26, 27, 42, 22, 37, 51, 46, 18,\n",
    "       44, 30, 34, 13, 15, 35, 33, 16, 50, 24]\n",
    "\n",
    "kayıp_sayilar = []\n",
    "\n",
    "for i in range(min(num), max(num)+ 1):\n",
    "    if i not in num:\n",
    "        kayıp_sayilar.append(i)\n",
    "\n",
    "print(kayıp_sayilar)\n"
   ]
  },
  {
   "cell_type": "code",
   "execution_count": 34,
   "metadata": {},
   "outputs": [
    {
     "data": {
      "text/plain": [
       "5"
      ]
     },
     "execution_count": 34,
     "metadata": {},
     "output_type": "execute_result"
    }
   ],
   "source": [
    "min(num)"
   ]
  },
  {
   "cell_type": "code",
   "execution_count": 35,
   "metadata": {},
   "outputs": [
    {
     "data": {
      "text/plain": [
       "55"
      ]
     },
     "execution_count": 35,
     "metadata": {},
     "output_type": "execute_result"
    }
   ],
   "source": [
    "max(num)"
   ]
  },
  {
   "cell_type": "code",
   "execution_count": 37,
   "metadata": {},
   "outputs": [
    {
     "data": {
      "text/plain": [
       "[8, 12, 14, 23, 25, 31, 32, 38, 40, 43, 49]"
      ]
     },
     "execution_count": 37,
     "metadata": {},
     "output_type": "execute_result"
    }
   ],
   "source": [
    "# contuniue ile \n",
    "\n",
    "kayıp_sayilar = []\n",
    "\n",
    "for i in range(min(num), max(num)+ 1):\n",
    "    if i in num:\n",
    "        continue    # eğer sayı num listesindeyse bir sonraki sayıya geç.\n",
    "    kayıp_sayilar.append(i)\n",
    "\n",
    "kayıp_sayilar"
   ]
  },
  {
   "cell_type": "code",
   "execution_count": 38,
   "metadata": {},
   "outputs": [
    {
     "data": {
      "text/plain": [
       "4"
      ]
     },
     "execution_count": 38,
     "metadata": {},
     "output_type": "execute_result"
    }
   ],
   "source": [
    "# Kullanıcıdan aldığınız üç sayının en büyük olanını yazdırın.\n",
    "\n",
    "sayi1 = int(input(\"Bir sayı giriniz.\"))\n",
    "sayi2 = int(input(\"Bir sayı giriniz.\"))\n",
    "sayi3 = int(input(\"Bir sayı giriniz.\"))\n",
    "\n",
    "liste = [sayi1, sayi2, sayi3]\n",
    "\n",
    "max(liste)\n"
   ]
  },
  {
   "cell_type": "code",
   "execution_count": 39,
   "metadata": {},
   "outputs": [
    {
     "name": "stdout",
     "output_type": "stream",
     "text": [
      "4\n"
     ]
    }
   ],
   "source": [
    "#2. yol\n",
    "x = liste[0]\n",
    "for i in liste:\n",
    "    if x < i:\n",
    "        x = i\n",
    "print(x)"
   ]
  },
  {
   "cell_type": "code",
   "execution_count": 40,
   "metadata": {},
   "outputs": [
    {
     "name": "stdout",
     "output_type": "stream",
     "text": [
      "En büyük sayı: 7\n"
     ]
    }
   ],
   "source": [
    "# farklı bir çözüm\n",
    "sayilar = []\n",
    "for i in range(3):\n",
    "    sayi = int(input(f\"{i + 1}. sayıyı girin: \")) \n",
    "    sayilar.append(sayi)\n",
    "en_buyuk = sayilar[0]\n",
    "for sayi in sayilar:\n",
    "    if sayi > en_buyuk:\n",
    "        en_buyuk = sayi \n",
    "print(\"En büyük sayı:\", en_buyuk)"
   ]
  }
 ],
 "metadata": {
  "kernelspec": {
   "display_name": "Python 3",
   "language": "python",
   "name": "python3"
  },
  "language_info": {
   "codemirror_mode": {
    "name": "ipython",
    "version": 3
   },
   "file_extension": ".py",
   "mimetype": "text/x-python",
   "name": "python",
   "nbconvert_exporter": "python",
   "pygments_lexer": "ipython3",
   "version": "3.11.4"
  }
 },
 "nbformat": 4,
 "nbformat_minor": 2
}
