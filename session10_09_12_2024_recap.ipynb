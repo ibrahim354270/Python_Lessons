{
 "cells": [
  {
   "cell_type": "markdown",
   "metadata": {},
   "source": [
    "1 - Kullanıcıdan input ile iki veri alın. Alınan değerler aynı uzunlukta ise True döndüren algoritmayı yazın."
   ]
  },
  {
   "cell_type": "code",
   "execution_count": 1,
   "metadata": {},
   "outputs": [
    {
     "name": "stdout",
     "output_type": "stream",
     "text": [
      "True\n"
     ]
    }
   ],
   "source": [
    "veri1 = input(\"Bir veri giriniz.\")\n",
    "veri2 = input(\"Bir veri giriniz.\")\n",
    "\n",
    "sonuc = len(veri1) == len(veri2)\n",
    "print(sonuc)"
   ]
  },
  {
   "cell_type": "code",
   "execution_count": 2,
   "metadata": {},
   "outputs": [
    {
     "name": "stdout",
     "output_type": "stream",
     "text": [
      "False\n"
     ]
    }
   ],
   "source": [
    "sonuc = len(input(\"Birinci veriyi girin: \")) == len(input(\"İkinci veriyi girin: \"))\n",
    "print(sonuc)"
   ]
  },
  {
   "cell_type": "code",
   "execution_count": 4,
   "metadata": {},
   "outputs": [
    {
     "name": "stdout",
     "output_type": "stream",
     "text": [
      "False\n"
     ]
    }
   ],
   "source": [
    "veri1 = input(\"Bir veri giriniz.\")\n",
    "veri2 = input(\"Bir veri giriniz.\")\n",
    "\n",
    "if len(veri1) == len(veri2):\n",
    "    print(True)\n",
    "else:\n",
    "    print(False)"
   ]
  },
  {
   "cell_type": "markdown",
   "metadata": {},
   "source": [
    "2 - Kullanıcıdan bir sayı isteyin. Sayı tek ise iki katını çift ise karesini yazdırın."
   ]
  },
  {
   "cell_type": "code",
   "execution_count": 6,
   "metadata": {},
   "outputs": [
    {
     "name": "stdout",
     "output_type": "stream",
     "text": [
      "Girdiğiniz say: 3. Sonuç: 6\n"
     ]
    }
   ],
   "source": [
    "sayi = int(input(\"Bir sayı giriniz.\"))\n",
    "\n",
    "if sayi % 2 == 0:\n",
    "    print(sayi ** 2)\n",
    "else:\n",
    "    print(f\"Girdiğiniz say: {sayi}. Sonuç: {sayi * 2}\")"
   ]
  },
  {
   "cell_type": "markdown",
   "metadata": {},
   "source": [
    "3 - Kullanıcıdan iki tam sayı isteyin. Sayılar eşitse veya sayıların farkı 5'in katı ise True döndüren algoritmayı yazın."
   ]
  },
  {
   "cell_type": "code",
   "execution_count": 9,
   "metadata": {},
   "outputs": [
    {
     "name": "stdout",
     "output_type": "stream",
     "text": [
      "Girdiğiniz sayılar: (3, 3) Sonuç: True\n"
     ]
    }
   ],
   "source": [
    "sayi1 = int(input(\"Bir sayı giriniz\"))\n",
    "sayi2 = int(input(\"Bir sayı giriniz\"))\n",
    "\n",
    "if sayi1 == sayi2 or abs(sayi1 - sayi2) % 5 ==0:   # Farkın mutlak değerini aldık\n",
    "    print(f\"Girdiğiniz sayılar: {sayi1, sayi2} Sonuç:\", True)\n",
    "else:\n",
    "    print(f\"Girdiğiniz sayılar: {sayi1, sayi2} Sonuç:\", False)"
   ]
  },
  {
   "cell_type": "code",
   "execution_count": 10,
   "metadata": {},
   "outputs": [
    {
     "data": {
      "text/plain": [
       "5"
      ]
     },
     "execution_count": 10,
     "metadata": {},
     "output_type": "execute_result"
    }
   ],
   "source": [
    "abs(-5)   # içine verilen ifadenin mutlak değerini döndürür"
   ]
  },
  {
   "cell_type": "code",
   "execution_count": 12,
   "metadata": {},
   "outputs": [
    {
     "data": {
      "text/plain": [
       "-4"
      ]
     },
     "execution_count": 12,
     "metadata": {},
     "output_type": "execute_result"
    }
   ],
   "source": [
    "(1 - 5)"
   ]
  },
  {
   "cell_type": "code",
   "execution_count": 13,
   "metadata": {},
   "outputs": [
    {
     "data": {
      "text/plain": [
       "4"
      ]
     },
     "execution_count": 13,
     "metadata": {},
     "output_type": "execute_result"
    }
   ],
   "source": [
    "abs(1-5)"
   ]
  },
  {
   "cell_type": "code",
   "execution_count": 11,
   "metadata": {},
   "outputs": [
    {
     "data": {
      "text/plain": [
       "1"
      ]
     },
     "execution_count": 11,
     "metadata": {},
     "output_type": "execute_result"
    }
   ],
   "source": [
    "abs(3-4)"
   ]
  },
  {
   "cell_type": "markdown",
   "metadata": {},
   "source": [
    "4 - Vücut kitle indexini hesaplayan fonksiyonu yazınız. Hesapladığınız değerin hangi kategoride olduğunu belirtiniz. (vki = kilo / (boy ** 2))\n",
    "\n",
    "VKI Aralıkları:\n",
    "\n",
    "- 18.5'in altı: Zayıf\n",
    "\n",
    "- 18.5 - 24.9: Normal kilolu\n",
    "\n",
    "- 25 - 29.9: Fazla kilolu\n",
    "\n",
    "- 30 - 39.9: Obez\n",
    "\n",
    "- 40 ve üzeri: Aşırı obez"
   ]
  },
  {
   "cell_type": "code",
   "execution_count": 18,
   "metadata": {},
   "outputs": [
    {
     "name": "stdout",
     "output_type": "stream",
     "text": [
      "Vücut Kitle İndeksiniz:  20.68\n",
      "Normal kilolu\n"
     ]
    }
   ],
   "source": [
    "def vki_hesapla(kilo, boy):\n",
    "    vki = kilo / (boy ** 2)\n",
    "\n",
    "    if vki < 18.5 :\n",
    "        aralik = \"Zayıf\"\n",
    "    elif 18.5 <= vki <= 24.9:\n",
    "        aralik = \"Normal kilolu\"\n",
    "    elif 25 <= vki <= 29.9:\n",
    "        aralik = \"Fazla kilolu\"\n",
    "    elif 30 <= vki <= 39.9:\n",
    "        aralik = \"Obez\"\n",
    "    else:\n",
    "        aralik = \"Aşırı obez\"\n",
    "    \n",
    "    return vki, aralik\n",
    "\n",
    "kilo = float(input(\"Kilonuzu kg olarak giriniz.\"))\n",
    "boy = float(input(\"Boyunuzu m olarak giriniz.\"))\n",
    "\n",
    "vki, aralik = vki_hesapla(kilo, boy)\n",
    "print(f\"Vücut Kitle İndeksiniz: {vki: .2f}\")\n",
    "print(aralik)"
   ]
  },
  {
   "cell_type": "markdown",
   "metadata": {},
   "source": [
    "5 - Kullanıcıdan bir cümle isteyin. Cümledeki büyük harf ve küçük harf sayısını hesaplayan bir program yazın."
   ]
  },
  {
   "cell_type": "code",
   "execution_count": 19,
   "metadata": {},
   "outputs": [
    {
     "name": "stdout",
     "output_type": "stream",
     "text": [
      "Kullanıcıdan BİR cümle isteyIN\n",
      "Büyük harf: 6\n",
      "Küçük harf: 21\n"
     ]
    }
   ],
   "source": [
    "cumle = input(\"Bir cümle giriniz.\")\n",
    "\n",
    "kucuk_harf, buyuk_harf = 0, 0\n",
    "\n",
    "for i in cumle:\n",
    "    kucuk_harf += i.islower()\n",
    "    buyuk_harf += i.isupper()\n",
    "print(cumle)\n",
    "print(f\"Büyük harf: {buyuk_harf}\\nKüçük harf: {kucuk_harf}\")"
   ]
  },
  {
   "cell_type": "code",
   "execution_count": 20,
   "metadata": {},
   "outputs": [
    {
     "name": "stdout",
     "output_type": "stream",
     "text": [
      "Büyük harf: 6\n",
      "Küçük harf: 21\n"
     ]
    }
   ],
   "source": [
    "print(\"Büyük harf: {0}\\nKüçük harf: {1}\".format(buyuk_harf, kucuk_harf))"
   ]
  },
  {
   "cell_type": "markdown",
   "metadata": {},
   "source": [
    "6 - Kullanıcının girdiği kelimeyi tersten yazdıran bir fonksiyon yazınız."
   ]
  },
  {
   "cell_type": "code",
   "execution_count": 21,
   "metadata": {},
   "outputs": [
    {
     "name": "stdout",
     "output_type": "stream",
     "text": [
      "Girdiğiniz merhabanin tersi: abahrem\n"
     ]
    }
   ],
   "source": [
    "def my_reverse(kelime):\n",
    "    \"\"\"Kullanıcının girdiği kelimeyi tersten yazdıran fonksiyon.\"\"\"\n",
    "    return kelime[::-1] \n",
    "\n",
    "kelime = input(\"Bir kelime giriniz.\")\n",
    "\n",
    "print(f\"Girdiğiniz {kelime}nin tersi: {my_reverse(kelime)}\")"
   ]
  },
  {
   "cell_type": "markdown",
   "metadata": {},
   "source": [
    "palindrom bulalım. "
   ]
  },
  {
   "cell_type": "code",
   "execution_count": 26,
   "metadata": {},
   "outputs": [
    {
     "name": "stdout",
     "output_type": "stream",
     "text": [
      "Kelime palindromdur\n",
      "Girdiğiniz ey edip adanada pide yenin tersi: ey edip adanada pide ye\n"
     ]
    }
   ],
   "source": [
    "def my_reverse(kelime):\n",
    "    \"\"\"Kullanıcının girdiği kelimeyi tersten yazdıran fonksiyon.\"\"\"\n",
    "    return kelime[::-1] \n",
    "\n",
    "kelime = input(\"Bir kelime giriniz.\")\n",
    "\n",
    "if kelime == my_reverse(kelime):\n",
    "    print(\"Kelime palindromdur\")\n",
    "else:\n",
    "    print(\"Kelime palindrom değildir\")  \n",
    "\n",
    "print(f\"Girdiğiniz {kelime}nin tersi: {my_reverse(kelime)}\")"
   ]
  },
  {
   "cell_type": "code",
   "execution_count": 29,
   "metadata": {},
   "outputs": [
    {
     "data": {
      "text/plain": [
       "'maleS'"
      ]
     },
     "execution_count": 29,
     "metadata": {},
     "output_type": "execute_result"
    }
   ],
   "source": [
    "kelime = \"\".join(reversed(\"Selam\"))\n",
    "kelime"
   ]
  },
  {
   "cell_type": "code",
   "execution_count": 30,
   "metadata": {},
   "outputs": [
    {
     "name": "stdout",
     "output_type": "stream",
     "text": [
      "Help on class reversed in module builtins:\n",
      "\n",
      "class reversed(object)\n",
      " |  reversed(sequence, /)\n",
      " |  \n",
      " |  Return a reverse iterator over the values of the given sequence.\n",
      " |  \n",
      " |  Methods defined here:\n",
      " |  \n",
      " |  __getattribute__(self, name, /)\n",
      " |      Return getattr(self, name).\n",
      " |  \n",
      " |  __iter__(self, /)\n",
      " |      Implement iter(self).\n",
      " |  \n",
      " |  __length_hint__(...)\n",
      " |      Private method returning an estimate of len(list(it)).\n",
      " |  \n",
      " |  __next__(self, /)\n",
      " |      Implement next(self).\n",
      " |  \n",
      " |  __reduce__(...)\n",
      " |      Return state information for pickling.\n",
      " |  \n",
      " |  __setstate__(...)\n",
      " |      Set state information for unpickling.\n",
      " |  \n",
      " |  ----------------------------------------------------------------------\n",
      " |  Static methods defined here:\n",
      " |  \n",
      " |  __new__(*args, **kwargs) from builtins.type\n",
      " |      Create and return a new object.  See help(type) for accurate signature.\n",
      "\n"
     ]
    }
   ],
   "source": [
    "help(reversed)"
   ]
  },
  {
   "cell_type": "markdown",
   "metadata": {},
   "source": [
    "7 - Girilen sayının faktöriyelini döndüren bir fonksiyon yazınız."
   ]
  },
  {
   "cell_type": "code",
   "execution_count": 22,
   "metadata": {},
   "outputs": [
    {
     "name": "stdout",
     "output_type": "stream",
     "text": [
      "5 sayısının faktoriyeli 120\n"
     ]
    }
   ],
   "source": [
    "num = int(input(\"Bir sayı giriniz.\"))\n",
    "carpim = 1 \n",
    "\n",
    "for i in range(1,num+1):\n",
    "    carpim *= i\n",
    "print(f\"{num} sayısının faktoriyeli {carpim}\")"
   ]
  },
  {
   "cell_type": "code",
   "execution_count": 24,
   "metadata": {},
   "outputs": [
    {
     "data": {
      "text/plain": [
       "120"
      ]
     },
     "execution_count": 24,
     "metadata": {},
     "output_type": "execute_result"
    }
   ],
   "source": [
    "def faktoriyel(n):\n",
    "    if n < 0:\n",
    "        return \"Negatif sayılar için faktoriyel hesaplanamaz.\"\n",
    "    elif n == 0 or n == 1:\n",
    "        return 1\n",
    "    else:\n",
    "        carpim = 1 \n",
    "        for i in range(1,n+1):\n",
    "            carpim *= i    # carpim = carpim * i\n",
    "        return carpim\n",
    "        \n",
    "faktoriyel(5)"
   ]
  },
  {
   "cell_type": "code",
   "execution_count": 25,
   "metadata": {},
   "outputs": [
    {
     "data": {
      "text/plain": [
       "120"
      ]
     },
     "execution_count": 25,
     "metadata": {},
     "output_type": "execute_result"
    }
   ],
   "source": [
    "def faktoriyel1(n):\n",
    "    if n < 0:\n",
    "        return \"Negatif sayılar için faktoriyel hesaplanamaz.\"\n",
    "    elif n == 0 or n == 1:\n",
    "        return 1\n",
    "    else:\n",
    "        return n * faktoriyel1(n-1)\n",
    "    \n",
    "faktoriyel1(5)"
   ]
  },
  {
   "cell_type": "markdown",
   "metadata": {},
   "source": [
    "8 - Virgülle ayrılmış sayılardan oluşan bir string dizesi giriniz. Bu dizedeki tek sayıların karesini virgülle ayırarak yazdırınız."
   ]
  },
  {
   "cell_type": "code",
   "execution_count": 31,
   "metadata": {},
   "outputs": [
    {
     "data": {
      "text/plain": [
       "[9, 121]"
      ]
     },
     "execution_count": 31,
     "metadata": {},
     "output_type": "execute_result"
    }
   ],
   "source": [
    "tek_kareler = []\n",
    "for sayi in input().split(\",\"):\n",
    "    if int(sayi) % 2 != 0:\n",
    "        tek_kareler.append(int(sayi) ** 2)\n",
    "\n",
    "tek_kareler"
   ]
  },
  {
   "cell_type": "code",
   "execution_count": 32,
   "metadata": {},
   "outputs": [
    {
     "name": "stdout",
     "output_type": "stream",
     "text": [
      "Girilen 1,3,12,13deki tek satıların karesinin listesi: [1, 9, 169]\n"
     ]
    }
   ],
   "source": [
    "tek_kareler = []\n",
    "dize = input(\"Virgülle ayrılmış olarak bir kaç sayı giriniz.\")\n",
    "for sayi in dize.split(\",\"):\n",
    "    if int(sayi) % 2 != 0:\n",
    "        tek_kareler.append(int(sayi) ** 2)\n",
    "print(f\"Girilen {dize}'deki tek sayıların karesinin listesi: {tek_kareler}\")"
   ]
  },
  {
   "cell_type": "markdown",
   "metadata": {},
   "source": [
    "9 - Girilen cümledeki çift indekslerdeki harfleri büyük diğerlerini küçük harf yapan fonksiyonu yazınız."
   ]
  },
  {
   "cell_type": "code",
   "execution_count": 33,
   "metadata": {},
   "outputs": [
    {
     "name": "stdout",
     "output_type": "stream",
     "text": [
      "PyThOn çOk eĞlEnCeLi̇.\n"
     ]
    }
   ],
   "source": [
    "def degistir(cumle):\n",
    "    yeni_cumle = \"\"\n",
    "    for i in range(len(cumle)):\n",
    "        if i % 2 == 0:\n",
    "            yeni_cumle += cumle[i].upper()\n",
    "        else:\n",
    "            yeni_cumle += cumle[i].lower()\n",
    "    return yeni_cumle\n",
    "\n",
    "print(degistir(\"python çok EĞLENCELİ.\")) "
   ]
  },
  {
   "cell_type": "markdown",
   "metadata": {},
   "source": [
    "10 - Girilen bir öğrenci listesindeki tek indexteki isimleri ayrı listeye çift indexte olan isimleri ayrı listeye alan fonksiyonu yazınız. Fakat bu iki liste tek bir liste olarak return olsun."
   ]
  },
  {
   "cell_type": "code",
   "execution_count": 35,
   "metadata": {},
   "outputs": [
    {
     "data": {
      "text/plain": [
       "[['Mukaddes', 'Miyase', 'Veli'], ['Hüseyin', 'Ali', 'Ayşe']]"
      ]
     },
     "execution_count": 35,
     "metadata": {},
     "output_type": "execute_result"
    }
   ],
   "source": [
    "def divide_names(students):\n",
    "    grup = [[],[]]\n",
    "    for index, student in enumerate(students):\n",
    "        if index % 2 == 0:\n",
    "            grup[0].append(student)\n",
    "        else:\n",
    "            grup[1].append(student)\n",
    "    return grup\n",
    "\n",
    "divide_names([\"Mukaddes\", \"Hüseyin\", \"Miyase\", \"Ali\", \"Veli\", \"Ayşe\"])\n"
   ]
  },
  {
   "cell_type": "code",
   "execution_count": 36,
   "metadata": {},
   "outputs": [
    {
     "data": {
      "text/plain": [
       "<enumerate at 0x10546c810>"
      ]
     },
     "execution_count": 36,
     "metadata": {},
     "output_type": "execute_result"
    }
   ],
   "source": [
    "names = [\"Mukaddes\", \"Hüseyin\", \"Miyase\", \"Ali\", \"Veli\", \"Ayşe\"]\n",
    "enumerate(names)"
   ]
  },
  {
   "cell_type": "code",
   "execution_count": 37,
   "metadata": {},
   "outputs": [
    {
     "name": "stdout",
     "output_type": "stream",
     "text": [
      "(0, 'Mukaddes')\n",
      "(1, 'Hüseyin')\n",
      "(2, 'Miyase')\n",
      "(3, 'Ali')\n",
      "(4, 'Veli')\n",
      "(5, 'Ayşe')\n"
     ]
    }
   ],
   "source": [
    "for i in enumerate(names):   # iterable verileri numaralandırır ve object olarak döndürür.\n",
    "    print(i)"
   ]
  },
  {
   "cell_type": "code",
   "execution_count": 34,
   "metadata": {},
   "outputs": [
    {
     "name": "stdout",
     "output_type": "stream",
     "text": [
      "Help on class enumerate in module builtins:\n",
      "\n",
      "class enumerate(object)\n",
      " |  enumerate(iterable, start=0)\n",
      " |  \n",
      " |  Return an enumerate object.\n",
      " |  \n",
      " |    iterable\n",
      " |      an object supporting iteration\n",
      " |  \n",
      " |  The enumerate object yields pairs containing a count (from start, which\n",
      " |  defaults to zero) and a value yielded by the iterable argument.\n",
      " |  \n",
      " |  enumerate is useful for obtaining an indexed list:\n",
      " |      (0, seq[0]), (1, seq[1]), (2, seq[2]), ...\n",
      " |  \n",
      " |  Methods defined here:\n",
      " |  \n",
      " |  __getattribute__(self, name, /)\n",
      " |      Return getattr(self, name).\n",
      " |  \n",
      " |  __iter__(self, /)\n",
      " |      Implement iter(self).\n",
      " |  \n",
      " |  __next__(self, /)\n",
      " |      Implement next(self).\n",
      " |  \n",
      " |  __reduce__(...)\n",
      " |      Return state information for pickling.\n",
      " |  \n",
      " |  ----------------------------------------------------------------------\n",
      " |  Class methods defined here:\n",
      " |  \n",
      " |  __class_getitem__(...) from builtins.type\n",
      " |      See PEP 585\n",
      " |  \n",
      " |  ----------------------------------------------------------------------\n",
      " |  Static methods defined here:\n",
      " |  \n",
      " |  __new__(*args, **kwargs) from builtins.type\n",
      " |      Create and return a new object.  See help(type) for accurate signature.\n",
      "\n"
     ]
    }
   ],
   "source": [
    "help(enumerate)"
   ]
  },
  {
   "cell_type": "markdown",
   "metadata": {},
   "source": [
    "11 - 10'a kadar olan çift sayıların karesini alarak bir sözlüğe ekleyin. Keyler orjinal değerler value'lar karesi alınmış değerler olsun."
   ]
  },
  {
   "cell_type": "code",
   "execution_count": 38,
   "metadata": {},
   "outputs": [
    {
     "data": {
      "text/plain": [
       "{0: 0, 2: 4, 4: 16, 6: 36, 8: 64}"
      ]
     },
     "execution_count": 38,
     "metadata": {},
     "output_type": "execute_result"
    }
   ],
   "source": [
    "sayilar = range(10)\n",
    "my_dict = {}\n",
    "\n",
    "for i in sayilar:\n",
    "    if i % 2 == 0:\n",
    "        my_dict[i] = i ** 2\n",
    "\n",
    "my_dict"
   ]
  },
  {
   "cell_type": "markdown",
   "metadata": {},
   "source": [
    "12 - Girilen sayının verilen aralıkta olup olmadığını kontrol eden fonksiyonu yazınız."
   ]
  },
  {
   "cell_type": "code",
   "execution_count": 39,
   "metadata": {},
   "outputs": [
    {
     "name": "stdout",
     "output_type": "stream",
     "text": [
      "Aradığınız 50 verdiğiniz 50 ve 70 aralığındadır.\n"
     ]
    }
   ],
   "source": [
    "def sayi_varmi(sayi, start, stop):\n",
    "    if sayi in list(range(start, stop)):\n",
    "        print(f\"Aradığınız {sayi} verdiğiniz {start} ve {stop} aralığındadır.\")\n",
    "    else:\n",
    "        print(f\"Aradığınız {sayi} verdiğiniz {start} ve {stop} aralığında değildir.\")\n",
    "\n",
    "sayi_varmi(50, 50, 70)"
   ]
  },
  {
   "cell_type": "code",
   "execution_count": null,
   "metadata": {},
   "outputs": [],
   "source": []
  }
 ],
 "metadata": {
  "kernelspec": {
   "display_name": "Python 3",
   "language": "python",
   "name": "python3"
  },
  "language_info": {
   "codemirror_mode": {
    "name": "ipython",
    "version": 3
   },
   "file_extension": ".py",
   "mimetype": "text/x-python",
   "name": "python",
   "nbconvert_exporter": "python",
   "pygments_lexer": "ipython3",
   "version": "3.11.4"
  }
 },
 "nbformat": 4,
 "nbformat_minor": 2
}
